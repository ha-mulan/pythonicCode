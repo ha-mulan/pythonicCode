{
 "cells": [
  {
   "cell_type": "markdown",
   "id": "659e99fc",
   "metadata": {},
   "source": [
    "### boolen 자료형을 비교할 땐 == 연산자를 사용하지마라"
   ]
  },
  {
   "cell_type": "code",
   "execution_count": 11,
   "id": "2ffc42c0",
   "metadata": {},
   "outputs": [
    {
     "name": "stdout",
     "output_type": "stream",
     "text": [
      "1. no operation\n",
      "2. == operation\n",
      "3. 'is' operation\n"
     ]
    }
   ],
   "source": [
    "isPrime=True\n",
    "if isPrime: print(\"1. no operation\")\n",
    "if isPrime==True: print(\"2. == operation\")\n",
    "if isPrime is True: print(\"3. 'is' operation\")"
   ]
  },
  {
   "cell_type": "markdown",
   "id": "b4bb04a5",
   "metadata": {},
   "source": [
    "\n",
    "boolean 자료형은 연산자를 통한 비교 대신 그자체로 쓰이는게 맞음 따라서 2번은 좋은 코드가 아니다.\n",
    "3번을 사용하면 안되는이유는 현재 우리는 동등성을 확인하는거지 \n",
    "동일성을 확인하는 것이 아니기 때문에 이상황에서 is를 사용하는 것은 옳지 않다.\n"
   ]
  },
  {
   "cell_type": "markdown",
   "id": "dd55469e",
   "metadata": {},
   "source": [
    "### 변수의 유효 범위 scope\n",
    "\n",
    "* 파이썬의 유효범위를 계산할 때 네임스페이스를 기반으로 계산함\n",
    "  * 어떤 변수가 사용됐다면 네임스페이스를 확인해 사용된 변수가 네임스페이스 안에 있는지 확인하고 없으면 nameError를 이르킨다.\n",
    "\n",
    "* namespace (legb)\n",
    " * built-in   : 파이썬 내장 네임스페이스로 어디서든 사용가능\n",
    " * gobal      : 전역적으로 사용이 가능한 네임스페이스로 파일단위의 모듈에서 유효함 또 import하면 그 모듈의 global 변수도 사용가능\n",
    " * enclosed   : nested function에서 내부함수가 외부함수의 변수를 접근가능한 것 \n",
    " * local      : 함수나 클래스 내부로 한정\n",
    "\n",
    "* LEGB: 변수를 확인할때 유효범위를 확안하는 순서"
   ]
  },
  {
   "cell_type": "markdown",
   "id": "47bbb739",
   "metadata": {},
   "source": [
    "#### global\n",
    "* first 정상 작동이유\n",
    "  * 전역변수 msg를 출력하기 때문이다.\n",
    " * second 오류 발생 이유\n",
    "  * msg 확인시 local에서 먼저 찾음    \n",
    "  => msg=\"wow 존재 따라서 로컬변수     \n",
    "  => msg=\"wow\" 이 코드는 전역변수를 수정하는 것이 아닌 지역변수를 선언하는 코드이다      \n",
    "  => 따라서 print(msg)는 선언전에 사용되었으므로 에러가 발생한다."
   ]
  },
  {
   "cell_type": "code",
   "execution_count": 18,
   "id": "93100d9c",
   "metadata": {},
   "outputs": [
    {
     "name": "stdout",
     "output_type": "stream",
     "text": [
      "hello\n",
      "hello\n"
     ]
    },
    {
     "ename": "UnboundLocalError",
     "evalue": "local variable 'msg' referenced before assignment",
     "output_type": "error",
     "traceback": [
      "\u001b[0;31m---------------------------------------------------------------------------\u001b[0m",
      "\u001b[0;31mUnboundLocalError\u001b[0m                         Traceback (most recent call last)",
      "\u001b[0;32m<ipython-input-18-28cb1fee2379>\u001b[0m in \u001b[0;36m<module>\u001b[0;34m\u001b[0m\n\u001b[1;32m     12\u001b[0m \u001b[0mfirst\u001b[0m\u001b[0;34m(\u001b[0m\u001b[0;34m)\u001b[0m\u001b[0;34m\u001b[0m\u001b[0;34m\u001b[0m\u001b[0m\n\u001b[1;32m     13\u001b[0m \u001b[0mfirst_two\u001b[0m\u001b[0;34m(\u001b[0m\u001b[0;34m)\u001b[0m\u001b[0;34m\u001b[0m\u001b[0;34m\u001b[0m\u001b[0m\n\u001b[0;32m---> 14\u001b[0;31m \u001b[0msecond\u001b[0m\u001b[0;34m(\u001b[0m\u001b[0;34m)\u001b[0m\u001b[0;34m\u001b[0m\u001b[0;34m\u001b[0m\u001b[0m\n\u001b[0m",
      "\u001b[0;32m<ipython-input-18-28cb1fee2379>\u001b[0m in \u001b[0;36msecond\u001b[0;34m()\u001b[0m\n\u001b[1;32m      8\u001b[0m     \u001b[0mmsg\u001b[0m\u001b[0;34m=\u001b[0m\u001b[0;34m\"wow\"\u001b[0m\u001b[0;34m\u001b[0m\u001b[0;34m\u001b[0m\u001b[0m\n\u001b[1;32m      9\u001b[0m \u001b[0;32mdef\u001b[0m \u001b[0msecond\u001b[0m\u001b[0;34m(\u001b[0m\u001b[0;34m)\u001b[0m\u001b[0;34m->\u001b[0m\u001b[0;32mNone\u001b[0m\u001b[0;34m:\u001b[0m\u001b[0;34m\u001b[0m\u001b[0;34m\u001b[0m\u001b[0m\n\u001b[0;32m---> 10\u001b[0;31m     \u001b[0mprint\u001b[0m\u001b[0;34m(\u001b[0m\u001b[0mmsg\u001b[0m\u001b[0;34m)\u001b[0m\u001b[0;34m\u001b[0m\u001b[0;34m\u001b[0m\u001b[0m\n\u001b[0m\u001b[1;32m     11\u001b[0m     \u001b[0mmsg\u001b[0m\u001b[0;34m=\u001b[0m\u001b[0;34m\"wow\"\u001b[0m\u001b[0;34m\u001b[0m\u001b[0;34m\u001b[0m\u001b[0m\n\u001b[1;32m     12\u001b[0m \u001b[0mfirst\u001b[0m\u001b[0;34m(\u001b[0m\u001b[0;34m)\u001b[0m\u001b[0;34m\u001b[0m\u001b[0;34m\u001b[0m\u001b[0m\n",
      "\u001b[0;31mUnboundLocalError\u001b[0m: local variable 'msg' referenced before assignment"
     ]
    }
   ],
   "source": [
    "msg=\"hello\"\n",
    "\n",
    "def first()->None:\n",
    "    print(msg)\n",
    "def first_two()->None:\n",
    "    global msg\n",
    "    print(msg)\n",
    "    msg=\"wow\"\n",
    "def second()->None:\n",
    "    print(msg)\n",
    "    msg=\"wow\"\n",
    "first()\n",
    "first_two()\n",
    "second()"
   ]
  },
  {
   "cell_type": "code",
   "execution_count": 21,
   "id": "f1457e7b",
   "metadata": {},
   "outputs": [
    {
     "name": "stdout",
     "output_type": "stream",
     "text": [
      "바뀔거같냐? 지역변수 선언이지 바꾸는거 아님 legb 기억하셈 바꾸고 싶으면 global keyword쓰셈\n"
     ]
    }
   ],
   "source": [
    "msg=\"바뀔거같냐? 지역변수 선언이지 바꾸는거 아님 legb 기억하셈 바꾸고 싶으면 global keyword쓰셈\"\n",
    "def modifyGlobal():\n",
    "    msg=\"a\"\n",
    "modifyGlobal()\n",
    "print(msg)"
   ]
  },
  {
   "cell_type": "markdown",
   "id": "f3f61e2e",
   "metadata": {},
   "source": [
    "### nonlocal\n"
   ]
  },
  {
   "cell_type": "code",
   "execution_count": 26,
   "id": "8eb8b25d",
   "metadata": {},
   "outputs": [
    {
     "name": "stdout",
     "output_type": "stream",
     "text": [
      "10\n"
     ]
    }
   ],
   "source": [
    "def solveProblem():\n",
    "    count=10\n",
    "    def countReader():\n",
    "        print(count)\n",
    "    countReader()\n",
    "solveProblem()"
   ]
  },
  {
   "cell_type": "code",
   "execution_count": 27,
   "id": "b5b916a6",
   "metadata": {},
   "outputs": [
    {
     "ename": "UnboundLocalError",
     "evalue": "local variable 'count' referenced before assignment",
     "output_type": "error",
     "traceback": [
      "\u001b[0;31m---------------------------------------------------------------------------\u001b[0m",
      "\u001b[0;31mUnboundLocalError\u001b[0m                         Traceback (most recent call last)",
      "\u001b[0;32m<ipython-input-27-3bb75248bbc1>\u001b[0m in \u001b[0;36m<module>\u001b[0;34m\u001b[0m\n\u001b[1;32m      5\u001b[0m         \u001b[0mcount\u001b[0m\u001b[0;34m=\u001b[0m\u001b[0;36m1\u001b[0m\u001b[0;34m\u001b[0m\u001b[0;34m\u001b[0m\u001b[0m\n\u001b[1;32m      6\u001b[0m     \u001b[0mcounter\u001b[0m\u001b[0;34m(\u001b[0m\u001b[0;34m)\u001b[0m\u001b[0;34m\u001b[0m\u001b[0;34m\u001b[0m\u001b[0m\n\u001b[0;32m----> 7\u001b[0;31m \u001b[0msolveProblem\u001b[0m\u001b[0;34m(\u001b[0m\u001b[0;34m)\u001b[0m\u001b[0;34m\u001b[0m\u001b[0;34m\u001b[0m\u001b[0m\n\u001b[0m",
      "\u001b[0;32m<ipython-input-27-3bb75248bbc1>\u001b[0m in \u001b[0;36msolveProblem\u001b[0;34m()\u001b[0m\n\u001b[1;32m      4\u001b[0m         \u001b[0mprint\u001b[0m\u001b[0;34m(\u001b[0m\u001b[0mcount\u001b[0m\u001b[0;34m)\u001b[0m\u001b[0;34m\u001b[0m\u001b[0;34m\u001b[0m\u001b[0m\n\u001b[1;32m      5\u001b[0m         \u001b[0mcount\u001b[0m\u001b[0;34m=\u001b[0m\u001b[0;36m1\u001b[0m\u001b[0;34m\u001b[0m\u001b[0;34m\u001b[0m\u001b[0m\n\u001b[0;32m----> 6\u001b[0;31m     \u001b[0mcounter\u001b[0m\u001b[0;34m(\u001b[0m\u001b[0;34m)\u001b[0m\u001b[0;34m\u001b[0m\u001b[0;34m\u001b[0m\u001b[0m\n\u001b[0m\u001b[1;32m      7\u001b[0m \u001b[0msolveProblem\u001b[0m\u001b[0;34m(\u001b[0m\u001b[0;34m)\u001b[0m\u001b[0;34m\u001b[0m\u001b[0;34m\u001b[0m\u001b[0m\n",
      "\u001b[0;32m<ipython-input-27-3bb75248bbc1>\u001b[0m in \u001b[0;36mcounter\u001b[0;34m()\u001b[0m\n\u001b[1;32m      2\u001b[0m     \u001b[0mcount\u001b[0m\u001b[0;34m=\u001b[0m\u001b[0;36m10\u001b[0m\u001b[0;34m\u001b[0m\u001b[0;34m\u001b[0m\u001b[0m\n\u001b[1;32m      3\u001b[0m     \u001b[0;32mdef\u001b[0m \u001b[0mcounter\u001b[0m\u001b[0;34m(\u001b[0m\u001b[0;34m)\u001b[0m\u001b[0;34m:\u001b[0m\u001b[0;34m\u001b[0m\u001b[0;34m\u001b[0m\u001b[0m\n\u001b[0;32m----> 4\u001b[0;31m         \u001b[0mprint\u001b[0m\u001b[0;34m(\u001b[0m\u001b[0mcount\u001b[0m\u001b[0;34m)\u001b[0m\u001b[0;34m\u001b[0m\u001b[0;34m\u001b[0m\u001b[0m\n\u001b[0m\u001b[1;32m      5\u001b[0m         \u001b[0mcount\u001b[0m\u001b[0;34m=\u001b[0m\u001b[0;36m1\u001b[0m\u001b[0;34m\u001b[0m\u001b[0;34m\u001b[0m\u001b[0m\n\u001b[1;32m      6\u001b[0m     \u001b[0mcounter\u001b[0m\u001b[0;34m(\u001b[0m\u001b[0;34m)\u001b[0m\u001b[0;34m\u001b[0m\u001b[0;34m\u001b[0m\u001b[0m\n",
      "\u001b[0;31mUnboundLocalError\u001b[0m: local variable 'count' referenced before assignment"
     ]
    }
   ],
   "source": [
    "def solveProblem():\n",
    "    count=10\n",
    "    def counter():\n",
    "        print(count)\n",
    "        count=1\n",
    "    counter()\n",
    "solveProblem()"
   ]
  },
  {
   "cell_type": "code",
   "execution_count": 28,
   "id": "e9ef7808",
   "metadata": {},
   "outputs": [
    {
     "name": "stdout",
     "output_type": "stream",
     "text": [
      "10\n"
     ]
    }
   ],
   "source": [
    "def solveProblem():\n",
    "    count=10\n",
    "    def counter():\n",
    "        nonlocal count\n",
    "        print(count)\n",
    "        count=1\n",
    "    counter()\n",
    "solveProblem()"
   ]
  },
  {
   "cell_type": "code",
   "execution_count": null,
   "id": "0f661b7d",
   "metadata": {},
   "outputs": [],
   "source": []
  }
 ],
 "metadata": {
  "kernelspec": {
   "display_name": "Python 3",
   "language": "python",
   "name": "python3"
  },
  "language_info": {
   "codemirror_mode": {
    "name": "ipython",
    "version": 3
   },
   "file_extension": ".py",
   "mimetype": "text/x-python",
   "name": "python",
   "nbconvert_exporter": "python",
   "pygments_lexer": "ipython3",
   "version": "3.8.5"
  }
 },
 "nbformat": 4,
 "nbformat_minor": 5
}
