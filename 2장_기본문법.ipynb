{
 "cells": [
  {
   "cell_type": "markdown",
   "id": "2085722a",
   "metadata": {},
   "source": [
    "## 기본 문법\n",
    "### 예외 처리\n",
    "   *  finally에서는 try/except:에서 처리하고 난 뒤 공통적으로 처리해야할 것 실행\n",
    "   *  _else_   \n",
    "   try에서 실행되는 구문은 예외를 감시하기 때문에 실행속도가 느리다 \n",
    "     * 따라서 예외가 일어날 것 같은 부분만 try로 감싸주고 나머지는 else로 뺀다.\n",
    "     * try에서 선언한 변수 else에서 접근가능!\n",
    "       * try에서는 최소한만 코딩하고 else에서 나머지 코딩하는 것이 옳다."
   ]
  },
  {
   "cell_type": "code",
   "execution_count": 2,
   "id": "efc55bd2",
   "metadata": {},
   "outputs": [
    {
     "name": "stdout",
     "output_type": "stream",
     "text": [
      "file open error\n",
      "End of file read\n"
     ]
    }
   ],
   "source": [
    "try:\n",
    "    f=open(\"happy.txt\",r)\n",
    "except:\n",
    "    print(\"file open error\")\n",
    "else:\n",
    "    print(f.read())\n",
    "    f.close()\n",
    "finally:\n",
    "    print(\"End of file read\")"
   ]
  },
  {
   "cell_type": "markdown",
   "id": "42a7bd4e",
   "metadata": {},
   "source": [
    "## iterator\n",
    "*  list, tuple, range과 같은 시퀀스 객체의 요소를 하나씩 꺼낼 수 있는 객체에서 사용 가능 합니다.\n",
    "* 시퀀스 객체 말고도 딕셔너리,세트도 반복 가능한 객체이기 때문에 이터레이터가 가능 합니다"
   ]
  },
  {
   "cell_type": "code",
   "execution_count": 14,
   "id": "0d35d7a2",
   "metadata": {},
   "outputs": [
    {
     "name": "stdout",
     "output_type": "stream",
     "text": [
      "first: 1\n",
      "\n",
      "2\n",
      "3\n",
      "4\n",
      "5\n",
      "6\n",
      "7\n",
      "8\n",
      "9\n"
     ]
    }
   ],
   "source": [
    "x=[i for i in range(1,10)]\n",
    "xiter=iter(x)\n",
    "print(\"first:\",next(xiter))\n",
    "#마지막인데 next호출시 StopIteration error 발생\n",
    "print()\n",
    "for i in xiter:\n",
    "    print(i)"
   ]
  },
  {
   "cell_type": "code",
   "execution_count": null,
   "id": "589b4b64",
   "metadata": {},
   "outputs": [],
   "source": []
  }
 ],
 "metadata": {
  "kernelspec": {
   "display_name": "Python 3",
   "language": "python",
   "name": "python3"
  },
  "language_info": {
   "codemirror_mode": {
    "name": "ipython",
    "version": 3
   },
   "file_extension": ".py",
   "mimetype": "text/x-python",
   "name": "python",
   "nbconvert_exporter": "python",
   "pygments_lexer": "ipython3",
   "version": "3.8.5"
  }
 },
 "nbformat": 4,
 "nbformat_minor": 5
}
