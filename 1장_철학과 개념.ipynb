{
 "cells": [
  {
   "cell_type": "markdown",
   "id": "659e99fc",
   "metadata": {},
   "source": [
    "## 1장 철학과 개념\n",
    "### boolen 자료형을 비교할 땐 == 연산자를 사용하지마라"
   ]
  },
  {
   "cell_type": "code",
   "execution_count": 11,
   "id": "2ffc42c0",
   "metadata": {},
   "outputs": [
    {
     "name": "stdout",
     "output_type": "stream",
     "text": [
      "1. no operation\n",
      "2. == operation\n",
      "3. 'is' operation\n"
     ]
    }
   ],
   "source": [
    "isPrime=True\n",
    "if isPrime: print(\"1. no operation\")\n",
    "if isPrime==True: print(\"2. == operation\")\n",
    "if isPrime is True: print(\"3. 'is' operation\")"
   ]
  },
  {
   "cell_type": "markdown",
   "id": "b4bb04a5",
   "metadata": {},
   "source": [
    "\n",
    "boolean 자료형은 연산자를 통한 비교 대신 그자체로 쓰이는게 맞음 따라서 2번은 좋은 코드가 아니다.\n",
    "3번을 사용하면 안되는이유는 현재 우리는 동등성을 확인하는거지 \n",
    "동일성을 확인하는 것이 아니기 때문에 이상황에서 is를 사용하는 것은 옳지 않다.\n"
   ]
  },
  {
   "cell_type": "markdown",
   "id": "dd55469e",
   "metadata": {},
   "source": [
    "### 변수의 유효 범위 scope\n",
    "\n",
    "* 파이썬의 유효범위를 계산할 때 네임스페이스를 기반으로 계산함\n",
    "  * 어떤 변수가 사용됐다면 네임스페이스를 확인해 사용된 변수가 네임스페이스 안에 있는지 확인하고 없으면 nameError를 이르킨다.\n",
    "\n",
    "* namespace (legb)\n",
    " * built-in   : 파이썬 내장 네임스페이스로 어디서든 사용가능\n",
    " * gobal      : 전역적으로 사용이 가능한 네임스페이스로 파일단위의 모듈에서 유효함 또 import하면 그 모듈의 global 변수도 사용가능\n",
    " * enclosed   : nested function에서 내부함수가 외부함수의 변수를 접근가능한 것 \n",
    " * local      : 함수나 클래스 내부로 한정\n",
    "\n",
    "* LEGB: 변수를 확인할때 유효범위를 확안하는 순서"
   ]
  },
  {
   "cell_type": "markdown",
   "id": "47bbb739",
   "metadata": {},
   "source": [
    "#### global\n",
    "* first 정상 작동이유\n",
    "  * 전역변수 msg를 출력하기 때문이다.\n",
    " * second 오류 발생 이유\n",
    "  * msg 확인시 local에서 먼저 찾음    \n",
    "  => msg=\"wow 존재 따라서 로컬변수     \n",
    "  => msg=\"wow\" 이 코드는 전역변수를 수정하는 것이 아닌 지역변수를 선언하는 코드이다      \n",
    "  => 따라서 print(msg)는 선언전에 사용되었으므로 에러가 발생한다."
   ]
  },
  {
   "cell_type": "code",
   "execution_count": 18,
   "id": "93100d9c",
   "metadata": {},
   "outputs": [
    {
     "name": "stdout",
     "output_type": "stream",
     "text": [
      "hello\n",
      "hello\n"
     ]
    },
    {
     "ename": "UnboundLocalError",
     "evalue": "local variable 'msg' referenced before assignment",
     "output_type": "error",
     "traceback": [
      "\u001b[0;31m---------------------------------------------------------------------------\u001b[0m",
      "\u001b[0;31mUnboundLocalError\u001b[0m                         Traceback (most recent call last)",
      "\u001b[0;32m<ipython-input-18-28cb1fee2379>\u001b[0m in \u001b[0;36m<module>\u001b[0;34m\u001b[0m\n\u001b[1;32m     12\u001b[0m \u001b[0mfirst\u001b[0m\u001b[0;34m(\u001b[0m\u001b[0;34m)\u001b[0m\u001b[0;34m\u001b[0m\u001b[0;34m\u001b[0m\u001b[0m\n\u001b[1;32m     13\u001b[0m \u001b[0mfirst_two\u001b[0m\u001b[0;34m(\u001b[0m\u001b[0;34m)\u001b[0m\u001b[0;34m\u001b[0m\u001b[0;34m\u001b[0m\u001b[0m\n\u001b[0;32m---> 14\u001b[0;31m \u001b[0msecond\u001b[0m\u001b[0;34m(\u001b[0m\u001b[0;34m)\u001b[0m\u001b[0;34m\u001b[0m\u001b[0;34m\u001b[0m\u001b[0m\n\u001b[0m",
      "\u001b[0;32m<ipython-input-18-28cb1fee2379>\u001b[0m in \u001b[0;36msecond\u001b[0;34m()\u001b[0m\n\u001b[1;32m      8\u001b[0m     \u001b[0mmsg\u001b[0m\u001b[0;34m=\u001b[0m\u001b[0;34m\"wow\"\u001b[0m\u001b[0;34m\u001b[0m\u001b[0;34m\u001b[0m\u001b[0m\n\u001b[1;32m      9\u001b[0m \u001b[0;32mdef\u001b[0m \u001b[0msecond\u001b[0m\u001b[0;34m(\u001b[0m\u001b[0;34m)\u001b[0m\u001b[0;34m->\u001b[0m\u001b[0;32mNone\u001b[0m\u001b[0;34m:\u001b[0m\u001b[0;34m\u001b[0m\u001b[0;34m\u001b[0m\u001b[0m\n\u001b[0;32m---> 10\u001b[0;31m     \u001b[0mprint\u001b[0m\u001b[0;34m(\u001b[0m\u001b[0mmsg\u001b[0m\u001b[0;34m)\u001b[0m\u001b[0;34m\u001b[0m\u001b[0;34m\u001b[0m\u001b[0m\n\u001b[0m\u001b[1;32m     11\u001b[0m     \u001b[0mmsg\u001b[0m\u001b[0;34m=\u001b[0m\u001b[0;34m\"wow\"\u001b[0m\u001b[0;34m\u001b[0m\u001b[0;34m\u001b[0m\u001b[0m\n\u001b[1;32m     12\u001b[0m \u001b[0mfirst\u001b[0m\u001b[0;34m(\u001b[0m\u001b[0;34m)\u001b[0m\u001b[0;34m\u001b[0m\u001b[0;34m\u001b[0m\u001b[0m\n",
      "\u001b[0;31mUnboundLocalError\u001b[0m: local variable 'msg' referenced before assignment"
     ]
    }
   ],
   "source": [
    "msg=\"hello\"\n",
    "\n",
    "def first()->None:\n",
    "    print(msg)\n",
    "def first_two()->None:\n",
    "    global msg\n",
    "    print(msg)\n",
    "    msg=\"wow\"\n",
    "def second()->None:\n",
    "    print(msg)\n",
    "    msg=\"wow\"\n",
    "first()\n",
    "first_two()\n",
    "second()"
   ]
  },
  {
   "cell_type": "code",
   "execution_count": 21,
   "id": "f1457e7b",
   "metadata": {},
   "outputs": [
    {
     "name": "stdout",
     "output_type": "stream",
     "text": [
      "바뀔거같냐? 지역변수 선언이지 바꾸는거 아님 legb 기억하셈 바꾸고 싶으면 global keyword쓰셈\n"
     ]
    }
   ],
   "source": [
    "msg=\"바뀔거같냐? 지역변수 선언이지 바꾸는거 아님 legb 기억하셈 바꾸고 싶으면 global keyword쓰셈\"\n",
    "def modifyGlobal():\n",
    "    msg=\"a\"\n",
    "modifyGlobal()\n",
    "print(msg)"
   ]
  },
  {
   "cell_type": "markdown",
   "id": "f3f61e2e",
   "metadata": {},
   "source": [
    "### nonlocal\n",
    "* 두번째 예제에서 count가 증가하지 않는이유\n",
    "* 1. legb 순서로 count를 찾는다\n",
    "* 2. local에서 count를 찾음 근데 count+=1하고 있기때문에 선언 전에 사용한것 따라서 에러남\n",
    "* 따라서 로컬에서 count를 찾으면 안돼기 때문에 nonlocal로 해준다."
   ]
  },
  {
   "cell_type": "code",
   "execution_count": 26,
   "id": "8eb8b25d",
   "metadata": {},
   "outputs": [
    {
     "name": "stdout",
     "output_type": "stream",
     "text": [
      "10\n"
     ]
    },
    {
     "data": {
      "text/plain": [
       "10"
      ]
     },
     "execution_count": 26,
     "metadata": {},
     "output_type": "execute_result"
    }
   ],
   "source": [
    "def solveProblem():\n",
    "    count=10\n",
    "    def countReader():\n",
    "        print(count)\n",
    "    countReader()\n",
    "    return count\n",
    "solveProblem()"
   ]
  },
  {
   "cell_type": "code",
   "execution_count": 27,
   "id": "b5b916a6",
   "metadata": {},
   "outputs": [
    {
     "ename": "UnboundLocalError",
     "evalue": "local variable 'count' referenced before assignment",
     "output_type": "error",
     "traceback": [
      "\u001b[0;31m---------------------------------------------------------------------------\u001b[0m",
      "\u001b[0;31mUnboundLocalError\u001b[0m                         Traceback (most recent call last)",
      "\u001b[0;32m<ipython-input-27-ef22401af053>\u001b[0m in \u001b[0;36m<module>\u001b[0;34m\u001b[0m\n\u001b[1;32m      5\u001b[0m     \u001b[0mcounter\u001b[0m\u001b[0;34m(\u001b[0m\u001b[0;34m)\u001b[0m\u001b[0;34m\u001b[0m\u001b[0;34m\u001b[0m\u001b[0m\n\u001b[1;32m      6\u001b[0m     \u001b[0;32mreturn\u001b[0m \u001b[0mcount\u001b[0m\u001b[0;34m\u001b[0m\u001b[0;34m\u001b[0m\u001b[0m\n\u001b[0;32m----> 7\u001b[0;31m \u001b[0msolveProblem\u001b[0m\u001b[0;34m(\u001b[0m\u001b[0;34m)\u001b[0m\u001b[0;34m\u001b[0m\u001b[0;34m\u001b[0m\u001b[0m\n\u001b[0m",
      "\u001b[0;32m<ipython-input-27-ef22401af053>\u001b[0m in \u001b[0;36msolveProblem\u001b[0;34m()\u001b[0m\n\u001b[1;32m      3\u001b[0m     \u001b[0;32mdef\u001b[0m \u001b[0mcounter\u001b[0m\u001b[0;34m(\u001b[0m\u001b[0;34m)\u001b[0m\u001b[0;34m:\u001b[0m\u001b[0;34m\u001b[0m\u001b[0;34m\u001b[0m\u001b[0m\n\u001b[1;32m      4\u001b[0m         \u001b[0mcount\u001b[0m\u001b[0;34m+=\u001b[0m\u001b[0;36m1\u001b[0m\u001b[0;34m\u001b[0m\u001b[0;34m\u001b[0m\u001b[0m\n\u001b[0;32m----> 5\u001b[0;31m     \u001b[0mcounter\u001b[0m\u001b[0;34m(\u001b[0m\u001b[0;34m)\u001b[0m\u001b[0;34m\u001b[0m\u001b[0;34m\u001b[0m\u001b[0m\n\u001b[0m\u001b[1;32m      6\u001b[0m     \u001b[0;32mreturn\u001b[0m \u001b[0mcount\u001b[0m\u001b[0;34m\u001b[0m\u001b[0;34m\u001b[0m\u001b[0m\n\u001b[1;32m      7\u001b[0m \u001b[0msolveProblem\u001b[0m\u001b[0;34m(\u001b[0m\u001b[0;34m)\u001b[0m\u001b[0;34m\u001b[0m\u001b[0;34m\u001b[0m\u001b[0m\n",
      "\u001b[0;32m<ipython-input-27-ef22401af053>\u001b[0m in \u001b[0;36mcounter\u001b[0;34m()\u001b[0m\n\u001b[1;32m      2\u001b[0m     \u001b[0mcount\u001b[0m\u001b[0;34m=\u001b[0m\u001b[0;36m10\u001b[0m\u001b[0;34m\u001b[0m\u001b[0;34m\u001b[0m\u001b[0m\n\u001b[1;32m      3\u001b[0m     \u001b[0;32mdef\u001b[0m \u001b[0mcounter\u001b[0m\u001b[0;34m(\u001b[0m\u001b[0;34m)\u001b[0m\u001b[0;34m:\u001b[0m\u001b[0;34m\u001b[0m\u001b[0;34m\u001b[0m\u001b[0m\n\u001b[0;32m----> 4\u001b[0;31m         \u001b[0mcount\u001b[0m\u001b[0;34m+=\u001b[0m\u001b[0;36m1\u001b[0m\u001b[0;34m\u001b[0m\u001b[0;34m\u001b[0m\u001b[0m\n\u001b[0m\u001b[1;32m      5\u001b[0m     \u001b[0mcounter\u001b[0m\u001b[0;34m(\u001b[0m\u001b[0;34m)\u001b[0m\u001b[0;34m\u001b[0m\u001b[0;34m\u001b[0m\u001b[0m\n\u001b[1;32m      6\u001b[0m     \u001b[0;32mreturn\u001b[0m \u001b[0mcount\u001b[0m\u001b[0;34m\u001b[0m\u001b[0;34m\u001b[0m\u001b[0m\n",
      "\u001b[0;31mUnboundLocalError\u001b[0m: local variable 'count' referenced before assignment"
     ]
    }
   ],
   "source": [
    "def solveProblem():\n",
    "    count=10\n",
    "    def counter():\n",
    "        count+=1\n",
    "    counter()\n",
    "    return count\n",
    "solveProblem()"
   ]
  },
  {
   "cell_type": "code",
   "execution_count": 25,
   "id": "e9ef7808",
   "metadata": {},
   "outputs": [
    {
     "data": {
      "text/plain": [
       "11"
      ]
     },
     "execution_count": 25,
     "metadata": {},
     "output_type": "execute_result"
    }
   ],
   "source": [
    "def solveProblem():\n",
    "    count=10\n",
    "    def counter():\n",
    "        nonlocal count\n",
    "        count+=1\n",
    "    counter()\n",
    "    return count\n",
    "solveProblem()\n"
   ]
  },
  {
   "cell_type": "markdown",
   "id": "4f3772c7",
   "metadata": {},
   "source": [
    "### first class citizen\n",
    "* 일급 객체\n",
    "  * 어떤 개체를 다른개체의 매개변수로 전달\n",
    "  * 함수의 반환값으로 사용하거나 변수의 값을 할당할 수 있는것  \n",
    "\n",
    "### first class function \n",
    " * 함수가 first class citizen 속성을 가지는 것\n",
    "\n",
    "### higher order function(고차 함수)\n",
    "\n",
    "* 둘중 하나만 만족하면 고차함수임\n",
    "  * 함수가 매개변수로 전달\n",
    "  * 함수를 반환값으로 사용\n"
   ]
  },
  {
   "cell_type": "code",
   "execution_count": 3,
   "id": "6b62e71a",
   "metadata": {},
   "outputs": [
    {
     "name": "stdout",
     "output_type": "stream",
     "text": [
      "[100, 121, 144]\n"
     ]
    }
   ],
   "source": [
    "def square(x:int)->int:\n",
    "    return x*x\n",
    "f=square\n",
    "f(10)\n",
    "def funcBinder(func,arg_list):\n",
    "    return [func(i) for i in arg_list]\n",
    "answer=funcBinder(f,[10,11,12])\n",
    "print(answer)"
   ]
  },
  {
   "cell_type": "code",
   "execution_count": 4,
   "id": "54466b7c",
   "metadata": {},
   "outputs": [
    {
     "data": {
      "text/plain": [
       "['FWESF', 'FERGFB', 'TYHTY']"
      ]
     },
     "execution_count": 4,
     "metadata": {},
     "output_type": "execute_result"
    }
   ],
   "source": [
    "def UpperMaker(data):\n",
    "    return data.upper()\n",
    "list(map(UpperMaker,[\"fwesf\",\"fergfb\",\"tyhty\"]))"
   ]
  },
  {
   "cell_type": "markdown",
   "id": "f207f6a1",
   "metadata": {},
   "source": [
    "### Nested function\n",
    "* 함수로 감싸인 함수\n",
    "* 외부함수와 내부함수로 이루어짐\n",
    "* 각각의 내부함수들은 scope chain에 의해 자신을 감싸고 있는 외부함수의 메모리에 접근이 가능하다"
   ]
  },
  {
   "cell_type": "code",
   "execution_count": 1,
   "id": "56159777",
   "metadata": {},
   "outputs": [
    {
     "name": "stdout",
     "output_type": "stream",
     "text": [
      "(7, -1)\n"
     ]
    }
   ],
   "source": [
    "def calculator(x:int,y:int):\n",
    "    def add(): return x+y\n",
    "    def sub(): return x-y\n",
    "    return (add(),sub())\n",
    "print(calculator(3,4))"
   ]
  },
  {
   "cell_type": "code",
   "execution_count": 9,
   "id": "7211c2c8",
   "metadata": {},
   "outputs": [
    {
     "name": "stdout",
     "output_type": "stream",
     "text": [
      "5\n",
      "100\n"
     ]
    }
   ],
   "source": [
    "def multiple(x:int):\n",
    "    def mul(y):\n",
    "        return x**y\n",
    "    return mul\n",
    "baseFive=multiple(5)\n",
    "baseTen=multiple(10)\n",
    "\n",
    "print(baseFive(1))\n",
    "print(baseTen(2))"
   ]
  },
  {
   "cell_type": "markdown",
   "id": "dbd719da",
   "metadata": {},
   "source": [
    "### closure\n",
    "* 아래와 같은 예제를 closure라고 한다\n",
    "* 함수의 반환값으로 내부 함수를 사용하는 함수\n",
    "* 아래예제에서 base를 접근 할 수있는 이유? (이미 addFunc은 종료되었기 때문에 base역시 접근 불가할것 같은데?)  \n",
    "=> 클로져는 내부 함수를 반환하지만 이때 이 함수와 관련된 외부 환경은 모두 저장함\n",
    " * 어디다 저장? \\__closure\\__"
   ]
  },
  {
   "cell_type": "code",
   "execution_count": 21,
   "id": "f5bee8ff",
   "metadata": {},
   "outputs": [
    {
     "name": "stdout",
     "output_type": "stream",
     "text": [
      "15\n",
      "2\n",
      "3\n"
     ]
    }
   ],
   "source": [
    "def addFunc(x,y):\n",
    "    base1=x\n",
    "    base2=y\n",
    "    def add(z):\n",
    "        return base1+base2+z\n",
    "    return add\n",
    "f=addFunc(2,3)\n",
    "print(f(10))\n",
    "\n",
    "print(f.__closure__[0].cell_contents)\n",
    "print(f.__closure__[1].cell_contents)"
   ]
  },
  {
   "cell_type": "code",
   "execution_count": 13,
   "id": "49e59610",
   "metadata": {},
   "outputs": [
    {
     "name": "stdout",
     "output_type": "stream",
     "text": [
      "5\n",
      "100\n",
      "5\n"
     ]
    }
   ],
   "source": [
    "def multiple(x:int):\n",
    "    base=x\n",
    "    def mul(y):\n",
    "        return base**y\n",
    "    return mul\n",
    "baseFive=multiple(5)\n",
    "baseTen=multiple(10)\n",
    "\n",
    "print(baseFive(1))\n",
    "print(baseTen(2))\n",
    "\n",
    "print(baseFive.__closure__[0].cell_contents)"
   ]
  },
  {
   "cell_type": "markdown",
   "id": "db4a66b7",
   "metadata": {},
   "source": [
    "### \\*args와 \\*\\*kwargs\n",
    "* 가변 매개변수임\n",
    "* \\*args는 non-keyworded 가변인자\n",
    "  * list ...\n",
    "* \\*\\*kwargs는 keyworded 가변인자임\n",
    "  * dict ..."
   ]
  },
  {
   "cell_type": "markdown",
   "id": "e7352dd6",
   "metadata": {},
   "source": [
    "### Partial Application\n",
    "* 복수의 매개변수를 갖는 함수에서 일부 매개변수의 값이 고정적일때 매번 고정된 매개변수를 작성해서 함수를 호출 하는 것은 비효율적임\n",
    "  * 매개변수의 일부를 미리 전달해서(지역 변수화 시켜버린다.) wrapping 함수를 만들고 이 래핑된 함수를 사용해 가변적인 매개변수만 매개변수로 사용하는 기법임\n",
    "  * 구현 하는 방법\n",
    "    * closure를 활용\n",
    "    * from functools import partial "
   ]
  },
  {
   "cell_type": "code",
   "execution_count": 12,
   "id": "076ee042",
   "metadata": {},
   "outputs": [
    {
     "name": "stdout",
     "output_type": "stream",
     "text": [
      "hi my name is yoonseok \n",
      "hi my name is yoonseok so what? \n",
      "hi my name is yoonseok he he \n"
     ]
    }
   ],
   "source": [
    "#구현 1\n",
    "def stringPrinter(*args):\n",
    "    for i in args:\n",
    "        print(i,end=\" \")\n",
    "    print()\n",
    "def partial(func,*partial_args):\n",
    "    \n",
    "    def wrapper(*extra_args):\n",
    "        args=list(partial_args)\n",
    "        args.extend(list(extra_args))\n",
    "        return func(*args)\n",
    "    return wrapper\n",
    "    \n",
    "stringPrinter(\"hi\",\"my\",\"name\",\"is\",\"yoonseok\")\n",
    "'''\n",
    "hi my name is yoonseok > 고정으로 사용될 인자!\n",
    "'''\n",
    "f=partial(stringPrinter,\"hi\",\"my\",\"name\",\"is\",\"yoonseok\")\n",
    "f(\"so\",\"what?\")\n",
    "f(\"he he\")"
   ]
  },
  {
   "cell_type": "code",
   "execution_count": 24,
   "id": "5faf6760",
   "metadata": {},
   "outputs": [
    {
     "name": "stdout",
     "output_type": "stream",
     "text": [
      "bear robotics go i'm gonna miss you and korea \n",
      "start:['bear', 'robotics', 'go']\n",
      "end: [\"i'm\", 'gonna', 'miss', 'you', 'and', 'korea']\n"
     ]
    }
   ],
   "source": [
    "#구현 2\n",
    "from  functools import partial\n",
    "f=partial(stringPrinter,\"bear\",\"robotics\",\"go\")\n",
    "f(\"i'm\",\"gonna\",\"miss\",'you',\"and\",\"korea\")\n",
    "\n",
    "def listPrinter(num1:list,num2:list)->None:\n",
    "    \n",
    "    print(f\"start:{num1}\")\n",
    "    print(f\"end: {num2}\")\n",
    "    \n",
    "f=partial(listPrinter,[\"bear\",\"robotics\",\"go\"])\n",
    "f([\"i'm\",\"gonna\",\"miss\",'you',\"and\",\"korea\"])\n"
   ]
  },
  {
   "cell_type": "code",
   "execution_count": null,
   "id": "fe89f548",
   "metadata": {},
   "outputs": [],
   "source": []
  }
 ],
 "metadata": {
  "kernelspec": {
   "display_name": "Python 3",
   "language": "python",
   "name": "python3"
  },
  "language_info": {
   "codemirror_mode": {
    "name": "ipython",
    "version": 3
   },
   "file_extension": ".py",
   "mimetype": "text/x-python",
   "name": "python",
   "nbconvert_exporter": "python",
   "pygments_lexer": "ipython3",
   "version": "3.8.5"
  }
 },
 "nbformat": 4,
 "nbformat_minor": 5
}
